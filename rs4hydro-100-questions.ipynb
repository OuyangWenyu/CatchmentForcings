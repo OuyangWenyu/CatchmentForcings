{
 "cells": [
  {
   "cell_type": "markdown",
   "id": "02d09114-f1f0-42c0-ab8c-17db51f2b819",
   "metadata": {},
   "source": [
    "# 水文水资源遥感基础100问\n",
    "\n",
    "从水文水资源的视角学习了解“Remote Sensing and Image Interpretation” 一书的内容，因为内容很多，所以这里以100个问题的方式来记录相关的知识。\n",
    "\n",
    "遥感是通过不与物体、区域或现象接触的设备来获取调查数据，并对数据进行分析得到有关信息的科技。这本书主要是针对航空航天设备上搭载的电磁辐射传感器的遥感。首先介绍了遥感过程中涉及的基本原理以及和GIS还有GPS的关系，然后第二章和第三章主要讲解了摄影遥感相关的内容，接着第四章和第五章介绍了多光谱、热红外和高光谱数据的获取以及对应遥感系统的特点等，第六章则主要针对雷达和Lidar数据，第二章到第六章是从短波到长波来安排介绍的，从紫外、可见光、近红外到热红外，再到微波。再接下来，第七章介绍了对遥感数据的数字化处理，最后第八章介绍遥感的应用。"
   ]
  },
  {
   "cell_type": "markdown",
   "id": "738e6ee5-f02c-4f97-b627-cd2f02f8cb4b",
   "metadata": {},
   "source": [
    "## 1.典型的地球观测遥感过程是什么样的"
   ]
  },
  {
   "cell_type": "markdown",
   "id": "a9069dd0-c460-4450-892b-2ad1713b39c4",
   "metadata": {
    "jupyter": {
     "source_hidden": true
    },
    "tags": []
   },
   "source": [
    "遥感全称Remote Sensing，"
   ]
  },
  {
   "cell_type": "markdown",
   "id": "0aedf522-8360-48c0-8482-9efbdd19a31f",
   "metadata": {},
   "source": [
    "## 2.电磁波频率和波长的关系"
   ]
  },
  {
   "cell_type": "markdown",
   "id": "edb43f29-9a74-463a-8eea-a215fd15c9c5",
   "metadata": {
    "jupyter": {
     "source_hidden": true
    },
    "tags": []
   },
   "source": []
  },
  {
   "cell_type": "markdown",
   "id": "d797a06a-6b50-49c9-97b9-0af9409403ff",
   "metadata": {},
   "source": [
    "## 3.电磁波谱中遥感经常涉及的几个区间的大致波长范围"
   ]
  },
  {
   "cell_type": "markdown",
   "id": "58851260-f3f6-4a29-880f-08a9a955190c",
   "metadata": {
    "jupyter": {
     "source_hidden": true
    },
    "tags": []
   },
   "source": []
  },
  {
   "cell_type": "markdown",
   "id": "dd415d0f-748d-4cba-8d37-a5d02fcd3e13",
   "metadata": {},
   "source": [
    "## 4.量子能量与波长的关系"
   ]
  },
  {
   "cell_type": "markdown",
   "id": "2ea849a3-3949-41d2-9350-32bafedd97b6",
   "metadata": {
    "jupyter": {
     "source_hidden": true
    },
    "tags": []
   },
   "source": []
  },
  {
   "cell_type": "markdown",
   "id": "023b6f54-965f-4cb7-8051-075171909bbe",
   "metadata": {},
   "source": [
    "## 5.Stefan-Boltzmann定律告诉我们什么"
   ]
  },
  {
   "cell_type": "markdown",
   "id": "167ba218-ae22-4ff8-a913-6e7bd19612e0",
   "metadata": {
    "jupyter": {
     "source_hidden": true
    },
    "tags": []
   },
   "source": []
  },
  {
   "cell_type": "markdown",
   "id": "8844af72-a32e-47b9-b9e2-64c1d3a7bf93",
   "metadata": {},
   "source": [
    "## 6.维恩位移（Wien's displacement）定律是什么"
   ]
  },
  {
   "cell_type": "markdown",
   "id": "fe53bfaf-8f7e-4498-bc55-a48f05165ea6",
   "metadata": {
    "jupyter": {
     "source_hidden": true
    },
    "tags": []
   },
   "source": []
  },
  {
   "cell_type": "markdown",
   "id": "cfc2fad7-70b0-4a1c-a25c-bf8d13165050",
   "metadata": {},
   "source": [
    "## 7.黑体辐射能量的波谱分布是什么样的"
   ]
  },
  {
   "cell_type": "markdown",
   "id": "82cf5706-512f-437b-ac09-a63fe53ea644",
   "metadata": {
    "jupyter": {
     "source_hidden": true
    },
    "tags": []
   },
   "source": []
  },
  {
   "cell_type": "markdown",
   "id": "35222098-609f-4690-91e0-94c9932c9844",
   "metadata": {},
   "source": [
    "## 8.什么是Rayleigh散射（scattering）、Mie散射、nonselective散射"
   ]
  },
  {
   "cell_type": "markdown",
   "id": "629a1fc1-8180-475a-9d90-a33264be169d",
   "metadata": {
    "jupyter": {
     "source_hidden": true
    },
    "tags": []
   },
   "source": []
  },
  {
   "cell_type": "markdown",
   "id": "b24ed6e9-60c3-4b7d-b5ea-bf2c6df7bbda",
   "metadata": {},
   "source": [
    "## 9.什么是大气窗口（atmospheric windows）"
   ]
  },
  {
   "cell_type": "markdown",
   "id": "f0a5def5-d8bd-4185-af99-1a57c23f1daa",
   "metadata": {
    "jupyter": {
     "source_hidden": true
    },
    "tags": []
   },
   "source": []
  },
  {
   "cell_type": "markdown",
   "id": "5f634d7e-e5c3-4e43-bd18-d1918b77b0d8",
   "metadata": {},
   "source": [
    "## 10.遥感传感器怎么考虑光谱（spectral）范围的选择"
   ]
  },
  {
   "cell_type": "markdown",
   "id": "023c6be0-8265-4535-bd59-a574d824b5a7",
   "metadata": {
    "jupyter": {
     "source_hidden": true
    },
    "tags": []
   },
   "source": []
  },
  {
   "cell_type": "markdown",
   "id": "395b8b3e-debf-40ec-b866-084847268722",
   "metadata": {},
   "source": [
    "## 11.电磁能入射地表物体时的能量守恒"
   ]
  },
  {
   "cell_type": "markdown",
   "id": "dbdd2e24-2761-4bd7-b1ad-d4e6014216c2",
   "metadata": {
    "jupyter": {
     "source_hidden": true
    },
    "tags": []
   },
   "source": []
  },
  {
   "cell_type": "markdown",
   "id": "b3f9b805-a2a1-4cf0-b1ce-360553f1f5bd",
   "metadata": {},
   "source": [
    "## 12.典型地物的光谱反射率曲线什么样"
   ]
  },
  {
   "cell_type": "markdown",
   "id": "779691cd-0739-426e-90d0-a7da5e74c6da",
   "metadata": {
    "jupyter": {
     "source_hidden": true
    },
    "tags": []
   },
   "source": []
  },
  {
   "cell_type": "markdown",
   "id": "6f60dc22-75c5-4a36-8ae8-32b00b962adc",
   "metadata": {},
   "source": [
    "## 13.光谱响应模式的时空效应指什么"
   ]
  },
  {
   "cell_type": "markdown",
   "id": "6f7850f3-ed46-43ae-b0de-91e26300723c",
   "metadata": {
    "jupyter": {
     "source_hidden": true
    },
    "tags": []
   },
   "source": []
  },
  {
   "cell_type": "markdown",
   "id": "7d5e8e4e-883b-4c12-a8e1-f141d26e280a",
   "metadata": {},
   "source": [
    "## 14.大气校正（atmospheric correction）在校正什么"
   ]
  },
  {
   "cell_type": "markdown",
   "id": "95685cd7-9c83-41fa-93c4-416ea3b75272",
   "metadata": {},
   "source": []
  },
  {
   "cell_type": "markdown",
   "id": "6ba09eec-e4cb-4ae0-96f5-37f22bc6cc57",
   "metadata": {},
   "source": [
    "## 15.简要表述观察和光照的几何关系"
   ]
  },
  {
   "cell_type": "markdown",
   "id": "cec2eaf4-d864-4bf0-8d4c-d42d12d9ee48",
   "metadata": {},
   "source": []
  },
  {
   "cell_type": "markdown",
   "id": "db62937c-4b0c-4a80-b60b-6a2b97cfc992",
   "metadata": {},
   "source": [
    "## 16.数字图像的DN值指什么"
   ]
  },
  {
   "cell_type": "markdown",
   "id": "13136004-914c-4fd2-a5dd-23b4e001ff91",
   "metadata": {},
   "source": []
  },
  {
   "cell_type": "markdown",
   "id": "d119add5-3090-4882-94d5-4ab589e938c5",
   "metadata": {},
   "source": [
    "## 17.数字图像的存储格式有哪些"
   ]
  },
  {
   "cell_type": "markdown",
   "id": "e31e85c0-4f3d-4fc0-89d1-a0a1ac0a7cbd",
   "metadata": {},
   "source": []
  },
  {
   "cell_type": "markdown",
   "id": "af82b2bf-350c-4f2a-871f-f4a19ade128c",
   "metadata": {},
   "source": [
    "## 18.DEM、DTM、DSM有什么区别"
   ]
  },
  {
   "cell_type": "markdown",
   "id": "e899818c-728d-43a5-8d5a-d7f842ea5121",
   "metadata": {},
   "source": []
  },
  {
   "cell_type": "markdown",
   "id": "e1f9f2e5-8a08-4d40-82d1-23f843e2a48b",
   "metadata": {},
   "source": [
    "## 19.什么是参考数据"
   ]
  },
  {
   "cell_type": "markdown",
   "id": "3407420a-02e5-4c1a-a0d2-5cc6761f27e6",
   "metadata": {},
   "source": []
  },
  {
   "cell_type": "markdown",
   "id": "0f88871c-a4a2-4ef6-ae5a-ea035da84ac7",
   "metadata": {},
   "source": [
    "## 20.GNSS和GIS与遥感配合的典型场景描述"
   ]
  },
  {
   "cell_type": "markdown",
   "id": "122ea1ab-66a3-4051-9be9-5d1afa0955a5",
   "metadata": {},
   "source": []
  },
  {
   "cell_type": "markdown",
   "id": "be39d932-9ca3-4d0c-8923-e69e96f2fcf7",
   "metadata": {},
   "source": [
    "## 21.解读遥感图像看哪些要素"
   ]
  },
  {
   "cell_type": "markdown",
   "id": "376f9896-f8f4-4ebb-93b6-72dabe2e0427",
   "metadata": {},
   "source": []
  },
  {
   "cell_type": "markdown",
   "id": "c9135043-b858-4ad2-96d8-a8628399dce1",
   "metadata": {},
   "source": [
    "## 22.四种分辨率是什么"
   ]
  },
  {
   "cell_type": "markdown",
   "id": "f0e1761a-1b60-4c86-87fc-4e583841c1e9",
   "metadata": {},
   "source": []
  },
  {
   "cell_type": "markdown",
   "id": "f3ff2a40-64e0-4535-adbb-f0f8876785be",
   "metadata": {},
   "source": [
    "## 23."
   ]
  },
  {
   "cell_type": "markdown",
   "id": "77b874d8-5e29-44d6-8544-2894c197b7fc",
   "metadata": {},
   "source": []
  },
  {
   "cell_type": "markdown",
   "id": "3ff3ecfa-7cc4-4acc-a9ed-c92fad9596fa",
   "metadata": {},
   "source": []
  },
  {
   "cell_type": "markdown",
   "id": "595b32b7-54fd-40b6-a55b-fde7b648e739",
   "metadata": {},
   "source": []
  },
  {
   "cell_type": "markdown",
   "id": "f6f3d40e-34c2-4fbc-9f24-abce4d768aa5",
   "metadata": {},
   "source": []
  }
 ],
 "metadata": {
  "kernelspec": {
   "display_name": "Python 3 (ipykernel)",
   "language": "python",
   "name": "python3"
  },
  "language_info": {
   "codemirror_mode": {
    "name": "ipython",
    "version": 3
   },
   "file_extension": ".py",
   "mimetype": "text/x-python",
   "name": "python",
   "nbconvert_exporter": "python",
   "pygments_lexer": "ipython3",
   "version": "3.9.13"
  }
 },
 "nbformat": 4,
 "nbformat_minor": 5
}
